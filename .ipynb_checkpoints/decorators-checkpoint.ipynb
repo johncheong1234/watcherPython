{
 "cells": [
  {
   "cell_type": "code",
   "execution_count": 1,
   "id": "a3f9169b",
   "metadata": {},
   "outputs": [],
   "source": [
    "def track_changes(func):\n",
    "    def wrapper(*args, **kwargs):\n",
    "        # Save a copy of the original argument values\n",
    "        arg_values = list(args)\n",
    "        kwarg_values = dict(kwargs)\n",
    "        \n",
    "        # Save a copy of the original variable values\n",
    "        initial_values = dict(func.__globals__)\n",
    "        \n",
    "        # Call the original function\n",
    "        result = func(*args, **kwargs)\n",
    "        \n",
    "        # Check for changes to arguments\n",
    "        for i, arg in enumerate(args):\n",
    "            if arg != arg_values[i]:\n",
    "                print(f'Argument {i+1} changed from {arg_values[i]} to {arg}')\n",
    "        for kwarg, value in kwargs.items():\n",
    "            if value != kwarg_values[kwarg]:\n",
    "                print(f'Argument {kwarg} changed from {kwarg_values[kwarg]} to {value}')\n",
    "        \n",
    "        # Check for changes to variables\n",
    "        for var_name, value in func.__globals__.items():\n",
    "            if var_name.startswith('__') or value == initial_values[var_name]:\n",
    "                continue\n",
    "            print(f'{var_name} changed from {initial_values[var_name]} to {value}')\n",
    "        \n",
    "        return result\n",
    "    \n",
    "    return wrapper\n"
   ]
  },
  {
   "cell_type": "code",
   "execution_count": 2,
   "id": "ef2dd5ec",
   "metadata": {},
   "outputs": [],
   "source": [
    "@track_changes\n",
    "def my_function(x, y, z=3):\n",
    "    a = x + y\n",
    "    b = z * 2\n",
    "    x += 1\n",
    "    y = 'hello'\n",
    "    z += 3"
   ]
  },
  {
   "cell_type": "code",
   "execution_count": 3,
   "id": "8916d2e4",
   "metadata": {},
   "outputs": [],
   "source": [
    "my_function(1,2)"
   ]
  },
  {
   "cell_type": "code",
   "execution_count": 4,
   "id": "19c2c012",
   "metadata": {},
   "outputs": [],
   "source": [
    "def track_changes(func):\n",
    "    def wrapper(*args, **kwargs):\n",
    "        initial_values = dict(func.__globals__)\n",
    "        result = func(*args, **kwargs)\n",
    "        for var_name, value in func.__globals__.items():\n",
    "            if var_name.startswith('__') or value == initial_values[var_name]:\n",
    "                continue\n",
    "            print(f'{var_name} changed from {initial_values[var_name]} to {value}')\n",
    "        return result\n",
    "    return wrapper\n"
   ]
  },
  {
   "cell_type": "code",
   "execution_count": 5,
   "id": "2b7810fe",
   "metadata": {},
   "outputs": [],
   "source": [
    "@track_changes\n",
    "def my_function():\n",
    "    x = 1\n",
    "    y = 'hello'\n",
    "    x = 2\n",
    "    y = 'world'\n"
   ]
  },
  {
   "cell_type": "code",
   "execution_count": 6,
   "id": "964578d6",
   "metadata": {},
   "outputs": [],
   "source": [
    "my_function()"
   ]
  },
  {
   "cell_type": "code",
   "execution_count": 7,
   "id": "3cc4a837",
   "metadata": {},
   "outputs": [],
   "source": [
    "def my_decorator(func):\n",
    "    def wrapper():\n",
    "        print(\"Something is happening before the function is called.\")\n",
    "        func()\n",
    "        print(\"Something is happening after the function is called.\")\n",
    "    return wrapper\n",
    "\n",
    "@my_decorator\n",
    "def say_whee():\n",
    "    print(\"Whee!\")"
   ]
  },
  {
   "cell_type": "code",
   "execution_count": 9,
   "id": "0455e543",
   "metadata": {},
   "outputs": [
    {
     "name": "stdout",
     "output_type": "stream",
     "text": [
      "Something is happening before the function is called.\n",
      "Whee!\n",
      "Something is happening after the function is called.\n"
     ]
    }
   ],
   "source": [
    "say_whee()"
   ]
  },
  {
   "cell_type": "code",
   "execution_count": null,
   "id": "1a18a384",
   "metadata": {},
   "outputs": [],
   "source": []
  }
 ],
 "metadata": {
  "kernelspec": {
   "display_name": "Python 3 (ipykernel)",
   "language": "python",
   "name": "python3"
  },
  "language_info": {
   "codemirror_mode": {
    "name": "ipython",
    "version": 3
   },
   "file_extension": ".py",
   "mimetype": "text/x-python",
   "name": "python",
   "nbconvert_exporter": "python",
   "pygments_lexer": "ipython3",
   "version": "3.9.12"
  }
 },
 "nbformat": 4,
 "nbformat_minor": 5
}
